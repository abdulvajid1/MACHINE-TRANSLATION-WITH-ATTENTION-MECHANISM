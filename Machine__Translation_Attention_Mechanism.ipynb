{
  "cells": [
    {
      "cell_type": "code",
      "execution_count": 121,
      "metadata": {
        "id": "3G1HJjntrcjc"
      },
      "outputs": [],
      "source": [
        "import torch\n",
        "from torch import nn\n",
        "from torch.nn.utils.rnn import pad_sequence\n",
        "from torch.utils.data import Dataset, DataLoader\n",
        "from torch.optim import RMSprop\n",
        "\n",
        "import re\n",
        "import string"
      ]
    },
    {
      "cell_type": "code",
      "execution_count": 122,
      "metadata": {},
      "outputs": [],
      "source": [
        "# Read data\n",
        "with open('mal-eng\\mal.txt','r') as file:\n",
        "    data = file.read()"
      ]
    },
    {
      "cell_type": "code",
      "execution_count": 123,
      "metadata": {},
      "outputs": [
        {
          "name": "stdout",
          "output_type": "stream",
          "text": [
            "Hello.\tനമസ്കാരം.\tCC-BY 2.0 (France) Attribution: tatoeba.org #1858850 (LanguageExpert) & #651913 (jjrodz)\n",
            "Really?\tശരിക്കും?\tCC-BY 2.0 (France) Attribution: tatoeba.org #373216 (kotobaboke) & #7896041 (lonewolfie)\n",
            "Help me.\tഎന്നെ സഹായിക്കൂ.\tCC-BY 2.0 (France) Attribution: tatoeba.org #266065 (Zifre) & #780454 (jjrodz)\n",
            "Welcome.\tസ്വാഗതം.\tCC-BY 2.0 (France) Attribution: tatoeba.org #138919 (CM) & #7896035 (lonewolfie)\n",
            "I forgot.\tഞാന്‍ മറന്നു.\tCC-BY 2.0 (France) Attribution: tatoeba.org #436603 (lukasz\n"
          ]
        }
      ],
      "source": [
        "print(data[:500])"
      ]
    },
    {
      "cell_type": "code",
      "execution_count": 124,
      "metadata": {},
      "outputs": [],
      "source": [
        "inp_tar_data = [text.split('\\t')[:2] for text in data.split('\\n')]"
      ]
    },
    {
      "cell_type": "code",
      "execution_count": 125,
      "metadata": {},
      "outputs": [
        {
          "name": "stdout",
          "output_type": "stream",
          "text": [
            "[['Hello.', 'നമസ്കാരം.'], ['Really?', 'ശരിക്കും?'], ['Help me.', 'എന്നെ സഹായിക്കൂ.'], ['Welcome.', 'സ്വാഗതം.'], ['I forgot.', 'ഞാന്\\u200d മറന്നു.']]\n"
          ]
        }
      ],
      "source": [
        "print(inp_tar_data[:5])"
      ]
    },
    {
      "cell_type": "code",
      "execution_count": 126,
      "metadata": {},
      "outputs": [],
      "source": [
        "inp_data = []\n",
        "tar_data = []\n",
        "for item in inp_tar_data:\n",
        "    if len(item)<2:\n",
        "        continue\n",
        "    inp_data.append(item[0])\n",
        "    tar_data.append(item[1])"
      ]
    },
    {
      "cell_type": "code",
      "execution_count": 127,
      "metadata": {},
      "outputs": [
        {
          "name": "stdout",
          "output_type": "stream",
          "text": [
            "number of data in inp:  614\n",
            "number of data in tar:  614\n"
          ]
        }
      ],
      "source": [
        "print('number of data in inp: ',len(inp_data))\n",
        "print('number of data in tar: ',len(tar_data))"
      ]
    },
    {
      "cell_type": "code",
      "execution_count": 128,
      "metadata": {},
      "outputs": [
        {
          "name": "stdout",
          "output_type": "stream",
          "text": [
            "[('Hello.', 'നമസ്കാരം.'), ('Really?', 'ശരിക്കും?'), ('Help me.', 'എന്നെ സഹായിക്കൂ.'), ('Welcome.', 'സ്വാഗതം.')]\n"
          ]
        }
      ],
      "source": [
        "print(list(zip(inp_data,tar_data[:4])))"
      ]
    },
    {
      "cell_type": "code",
      "execution_count": 129,
      "metadata": {},
      "outputs": [],
      "source": [
        "# Remove puctuations\n",
        "def remove_puctuations(word):\n",
        "    word = re.sub('[{}]'.format(string.punctuation),repl='',string=word)\n",
        "    return word.lower()"
      ]
    },
    {
      "cell_type": "code",
      "execution_count": 130,
      "metadata": {},
      "outputs": [],
      "source": [
        "inp_data = list(map(remove_puctuations,inp_data))\n",
        "tar_data = list(map(remove_puctuations,tar_data))"
      ]
    },
    {
      "cell_type": "code",
      "execution_count": 131,
      "metadata": {},
      "outputs": [
        {
          "name": "stdout",
          "output_type": "stream",
          "text": [
            "['നമസ്കാരം', 'ശരിക്കും', 'എന്നെ സഹായിക്കൂ', 'സ്വാഗതം']\n"
          ]
        }
      ],
      "source": [
        "print(tar_data[:4])"
      ]
    },
    {
      "cell_type": "code",
      "execution_count": 132,
      "metadata": {},
      "outputs": [],
      "source": [
        "class LangPorcess:\n",
        "    def __init__(self):\n",
        "\n",
        "        self.__word2int = {}\n",
        "        self.__int2word = {}\n",
        "        self.__vocabsize = 2\n",
        "        self.__word2int['<pad>'] = 0\n",
        "        self.__int2word[0] = '<pad>'\n",
        "        self.__int2word[1] = '<eos>'\n",
        "        self.__word2int['<eos>'] = 1\n",
        "        self.__word_freq = {}\n",
        "        self.__integer_encoded =[]\n",
        "\n",
        "    def fit(self,X):\n",
        "        X_split_words = [text.split(' ') for text in X]\n",
        "        self.read_sentences(X_split_words)\n",
        "        self.__integer_encoding(X_split_words)\n",
        "        \n",
        "        \n",
        "    def read_sentences(self,X):\n",
        "        # Loop thourgh each sentence and read words\n",
        "        for sentence in X:\n",
        "            for word in sentence:\n",
        "                if word not in self.__word2int.keys():\n",
        "                    self.__word_freq[word] = 1\n",
        "                    self.read_words(word)\n",
        "                else:\n",
        "                    self.__word_freq[word] += 1\n",
        "\n",
        "\n",
        "    \n",
        "    def read_words(self,word):\n",
        "            self.__word2int[word] = self.__vocabsize\n",
        "            self.__int2word[self.__vocabsize] = word\n",
        "            self.__vocabsize+=1\n",
        "\n",
        "    def get_word_frequency(self):\n",
        "        return dict(sorted(self.__word_freq.items(),\n",
        "                           key=lambda x:x[1],\n",
        "                           reverse=True))\n",
        "    \n",
        "    def get_word2index(self):\n",
        "        return self.__int2word\n",
        "    \n",
        "    def get_index2word(self):\n",
        "        return self.__word2int\n",
        "    \n",
        "    def __integer_encoding(self,X):  \n",
        "        for word in X:\n",
        "            torch_tensor = torch.tensor(list(map(lambda word : self.__word2int[word],word)))\n",
        "            self.__integer_encoded.append(torch_tensor)\n",
        "\n",
        "    def get_integer_encoding(self,padding=True,max_len=None):\n",
        "        if padding:\n",
        "            return self.__pad_sequence(self.__integer_encoded,max_len)\n",
        "        else:\n",
        "            return self.__integer_encoded\n",
        "        \n",
        "    def __pad_sequence(self,X,max_len):\n",
        "            maxlen_padded = pad_sequence(self.__integer_encoded,padding_value=0,batch_first=True)\n",
        "            if max_len:\n",
        "                return maxlen_padded[:,:max_len]\n",
        "            else:\n",
        "                return maxlen_padded\n",
        "    \n",
        "    def get_vocabsize(self):\n",
        "        return self.__vocabsize\n",
        "       \n",
        "        "
      ]
    },
    {
      "cell_type": "code",
      "execution_count": 133,
      "metadata": {},
      "outputs": [],
      "source": [
        "inp_lang = LangPorcess()\n",
        "inp_lang.fit(inp_data)\n",
        "\n",
        "tar_lang = LangPorcess()\n",
        "tar_lang.fit(tar_data)"
      ]
    },
    {
      "cell_type": "code",
      "execution_count": 134,
      "metadata": {},
      "outputs": [],
      "source": [
        "inp_integers = inp_lang.get_integer_encoding(max_len=11)\n",
        "tar_integers = tar_lang.get_integer_encoding(max_len=7)"
      ]
    },
    {
      "cell_type": "code",
      "execution_count": 135,
      "metadata": {},
      "outputs": [],
      "source": [
        "class TorchDataset(Dataset):\n",
        "    def __init__(self,enc_sentance,dec_sentance):\n",
        "        super().__init__()\n",
        "        self.enc_sentance = enc_sentance\n",
        "        self.dec_sentance = dec_sentance\n",
        "\n",
        "    def __len__(self):\n",
        "        return len(self.enc_sentance)\n",
        "\n",
        "    def __getitem__(self, index):\n",
        "        return self.enc_sentance[index], self.dec_sentance[index]\n",
        "\n"
      ]
    },
    {
      "cell_type": "code",
      "execution_count": 136,
      "metadata": {},
      "outputs": [],
      "source": [
        "data = TorchDataset(enc_sentance=inp_integers,dec_sentance=tar_integers)"
      ]
    },
    {
      "cell_type": "code",
      "execution_count": 137,
      "metadata": {},
      "outputs": [],
      "source": [
        "dataloader = DataLoader(data,\n",
        "                        batch_size=32,\n",
        "                        shuffle=True,\n",
        "                        pin_memory=True)"
      ]
    },
    {
      "cell_type": "code",
      "execution_count": 138,
      "metadata": {},
      "outputs": [
        {
          "name": "stdout",
          "output_type": "stream",
          "text": [
            "tensor([[  7, 180, 223, 224,   0,   0,   0,   0,   0,   0,   0],\n",
            "        [ 11, 151, 152,   0,   0,   0,   0,   0,   0,   0,   0],\n",
            "        [ 49,  35, 105,  57, 717,  81, 718,   0,   0,   0,   0],\n",
            "        [ 20,  21,   0,   0,   0,   0,   0,   0,   0,   0,   0],\n",
            "        [  7, 180, 260,  81, 261,   0,   0,   0,   0,   0,   0],\n",
            "        [  7,  30,  44,  19, 575, 782, 783,   0,   0,   0,   0],\n",
            "        [298, 299,  65, 126,   0,   0,   0,   0,   0,   0,   0],\n",
            "        [ 29, 560, 149, 116, 561, 554,   0,   0,   0,   0,   0],\n",
            "        [  7, 536,  79, 367, 256, 566,   0,   0,   0,   0,   0],\n",
            "        [ 51, 380,  52, 381, 382,   0,   0,   0,   0,   0,   0],\n",
            "        [ 17, 214, 305, 203, 556, 557,   0,   0,   0,   0,   0],\n",
            "        [  7, 538,  65, 539, 374,  79, 463,   0,   0,   0,   0],\n",
            "        [ 41, 249, 250,   0,   0,   0,   0,   0,   0,   0,   0],\n",
            "        [ 70, 407, 489, 365,  70, 318,   0,   0,   0,   0,   0],\n",
            "        [243,  19, 138,  70, 868, 537, 869,   0,   0,   0,   0],\n",
            "        [ 29, 140, 475, 570, 591, 419,   0,   0,   0,   0,   0],\n",
            "        [  7, 408,  70, 630,  42,  57, 451,   0,   0,   0,   0],\n",
            "        [ 24, 199,   0,   0,   0,   0,   0,   0,   0,   0,   0],\n",
            "        [  7, 180,  79, 706,  17, 190, 275, 707,   0,   0,   0],\n",
            "        [ 29,  78,  79,  80,   0,   0,   0,   0,   0,   0,   0],\n",
            "        [ 55,  56,  57,   0,   0,   0,   0,   0,   0,   0,   0],\n",
            "        [ 70, 643, 190, 275, 163, 149,  79, 744,   0,   0,   0],\n",
            "        [ 20,  56, 545, 546, 256,  77,   0,   0,   0,   0,   0],\n",
            "        [100,  19, 294, 174, 130, 116, 562, 710,   0,   0,   0],\n",
            "        [  7, 107,  65, 108,   0,   0,   0,   0,   0,   0,   0],\n",
            "        [181,  97, 145,  44,  33, 459,   0,   0,   0,   0,   0],\n",
            "        [ 56,  57, 560, 149,  51, 579,   0,   0,   0,   0,   0],\n",
            "        [  7, 180, 172,  70, 342,   0,   0,   0,   0,   0,   0],\n",
            "        [161, 812, 154, 451, 527,  19, 813,   0,   0,   0,   0],\n",
            "        [ 70, 578, 323, 734,  52, 735,   0,   0,   0,   0,   0],\n",
            "        [ 60, 344, 471, 424,  17,   0,   0,   0,   0,   0,   0],\n",
            "        [ 49, 543, 116,   7, 168,  79, 643,   0,   0,   0,   0]]) tensor([[   9,  235,  236,    0,    0,    0,    0],\n",
            "        [   7,  154,  155,    0,    0,    0,    0],\n",
            "        [ 121,  150,  969,  346,  970,   38,    0],\n",
            "        [  21,   22,    0,    0,    0,    0,    0],\n",
            "        [   7,  280,  281,    0,    0,    0,    0],\n",
            "        [   9,  230, 1088, 1089, 1090,  530,   33],\n",
            "        [ 333,   66,  334,  335,    0,    0,    0],\n",
            "        [  97,   70,  714,  715,  665,    0,    0],\n",
            "        [  11,  724,  725,  150,  427,  726,    0],\n",
            "        [ 252,  441,  255,  442,    0,    0,    0],\n",
            "        [  42,  703,  704,  705,    0,    0,    0],\n",
            "        [  11,  150,  673,  434,  435,  674,  675],\n",
            "        [ 266,  267,   47,    0,    0,    0,    0],\n",
            "        [  70,  482,  597,  598,    0,    0,    0],\n",
            "        [ 676, 1239, 1240,    0,    0,    0,    0],\n",
            "        [  97,  733,  772,  773,  701,  774,    0],\n",
            "        [  11,  150,  358,  605,  833,  484,    0],\n",
            "        [  25,  208,   27,    0,    0,    0,    0],\n",
            "        [  42,  957,  958,  634,    0,    0,    0],\n",
            "        [  36,   78,   79,    0,    0,    0,    0],\n",
            "        [  57,   58,    0,    0,    0,    0,    0],\n",
            "        [ 150, 1018, 1019,  166, 1020,    0,    0],\n",
            "        [ 688,  689,  150,  690,    0,    0,    0],\n",
            "        [ 515, 1247,  974, 1248, 1224,    0,    0],\n",
            "        [   7,   66,  109,  110,    0,    0,    0],\n",
            "        [ 370,  557,  558,    0,    0,    0,    0],\n",
            "        [ 252,  752,  364,  753,    0,    0,    0],\n",
            "        [  11,  252,  391,  392,    0,    0,    0],\n",
            "        [ 165,   75, 1135,  681,  691,  358, 1136],\n",
            "        [1000, 1001, 1002,    0,    0,    0,    0],\n",
            "        [  97,  573,  255,  574,    0,    0,    0],\n",
            "        [  11,  150,  849,  121,  850,    0,    0]])\n"
          ]
        }
      ],
      "source": [
        "for i,(inp,ter) in enumerate(dataloader):\n",
        "    if i ==1:\n",
        "        break\n",
        "    print(inp,ter)"
      ]
    },
    {
      "cell_type": "code",
      "execution_count": 139,
      "metadata": {
        "id": "lPp3w84uZiHC"
      },
      "outputs": [],
      "source": [
        "class Encoder(nn.Module):\n",
        "  def __init__(self, \n",
        "               embedding_size, \n",
        "               hidden_size, \n",
        "               vocab_size):\n",
        "    super().__init__()\n",
        "\n",
        "    # encoder initialization\n",
        "    self.embedding = nn.Embedding(num_embeddings=vocab_size,\n",
        "                             embedding_dim=embedding_size)\n",
        "    self.encoder_lstm = nn.LSTM(input_size=embedding_size,\n",
        "                           hidden_size=hidden_size,\n",
        "                           batch_first=True)\n",
        "\n",
        "  def forward(self,input):\n",
        "    # network flow\n",
        "    embedding_input = self.embedding(input)\n",
        "    encoder_outputs, (final_hidden_state, final_cell_state) = self.encoder_lstm(embedding_input)\n",
        "    \n",
        "    return encoder_outputs, final_hidden_state, final_cell_state\n",
        "\n",
        "\n"
      ]
    },
    {
      "cell_type": "code",
      "execution_count": 140,
      "metadata": {},
      "outputs": [],
      "source": [
        "class Attention(nn.Module):\n",
        "  def __init__(self, hidden_size):\n",
        "    super().__init__()\n",
        "\n",
        "    self.network = nn.Sequential(\n",
        "          nn.Linear(2*hidden_size,hidden_size),\n",
        "          nn.SELU(),\n",
        "          nn.Linear(hidden_size,1),\n",
        "          nn.Softmax(dim=1)\n",
        "        )\n",
        "    \n",
        "  def forward(self,encoder_outputs,hidden_state):\n",
        "    \"\"\" Concat encoeder_output and hidden_state, encoder_output shape = (32,timestept,hidden_size), hidden_state shape = 32,1,hidden_side\n",
        "    first we need to make it same shape to concat hidden_state should be 32,timestep hidden_size, timestpe will be repeatation of same one vector from hidden size\"\"\"\n",
        "\n",
        "    encoder_timestep_len = encoder_outputs.size(1)  # hidden_size will be (1,32,hidden_size) according to doc we need to change\n",
        "    hidden_state = hidden_state.permute(1,0,2) # shape: (32,1,5)\n",
        "    hidden_repeated = hidden_state.repeat(1,encoder_timestep_len,1) # hidden_state repetation \n",
        "\n",
        "    # concat with encoder_output and hidden output\n",
        "    encoder_hidden_concat = torch.concat((encoder_outputs,hidden_repeated),dim=-1) # shape : 32,timestep,hidden_size*2\n",
        "    weights = self.network(encoder_hidden_concat) # (32,timestepe,1)\n",
        "    weights = weights.permute(0,2,1) # for bmm (32,1,timesteps)\n",
        "    context_vectores = weights.bmm(encoder_outputs) # 32,1,hidden_size\n",
        "    context_vectores = context_vectores.permute(1,0,2) # convert back to the way lstm take hidden state\n",
        "\n",
        "    return context_vectores"
      ]
    },
    {
      "cell_type": "code",
      "execution_count": 141,
      "metadata": {
        "id": "Q-0NVAH5Zq7w"
      },
      "outputs": [],
      "source": [
        "class Decoder(nn.Module):\n",
        "  def __init__(self,\n",
        "               embedding_dim,\n",
        "               hidden_size,\n",
        "               vocab_size_tr,\n",
        "               max_len=20,\n",
        "               sos_token=1,\n",
        "               ):\n",
        "    super().__init__()\n",
        "    \n",
        "    self.MAX_LEN = max_len\n",
        "    self.SOS_TOKEN = sos_token\n",
        "\n",
        "    # Layers Initialization\n",
        "    self.embedding_layer = nn.Embedding(vocab_size_tr, embedding_dim)\n",
        "    self.lstm_layer = nn.LSTM(embedding_dim, hidden_size, batch_first=True)\n",
        "    self.fnn = nn.Linear(hidden_size ,vocab_size_tr)\n",
        "    self.attention_vector = Attention(hidden_size)\n",
        "\n",
        "  def forward(self,\n",
        "              encoder_outputs,\n",
        "              hidden_state,\n",
        "              cell_state,\n",
        "              target_output=None):\n",
        "    \n",
        "    batch_size = encoder_outputs.shape[0]     # encoder gets the input from train loader which defines the batchsize\n",
        "    decoder_input = torch.empty(size=(batch_size,1),dtype=torch.long).fill_(self.SOS_TOKEN)     # Initialize first input [32 sos_tokens]\n",
        "    decoder_outputs = []\n",
        "\n",
        "    for i in range(self.MAX_LEN):\n",
        "      output_logits ,hidden_state, cell_state = self.forward_step(encoder_outputs, decoder_input, hidden_state, cell_state)\n",
        "      decoder_outputs.append(output_logits.unsqueeze(1))      # decoder ouput = [(32,vocab_size),...(32,vocab_size)], this list will have max_len item , lastly we will concat this to make (32,max_len,vocab_size)\n",
        "\n",
        "      # teacher_forcing, occurs if we give target_output in the decoder\n",
        "      if target_output != None:\n",
        "        decoder_input = target_output[:,i].unsqueeze(1)\n",
        "      else:\n",
        "        _, decoder_input = output_logits.topk(1,dim=-1)\n",
        "\n",
        "    decoder_final_output = torch.cat(decoder_outputs,dim=1)\n",
        "    return decoder_final_output\n",
        "\n",
        "  def forward_step(self,encoder_outputs, decoder_input, hidden_state, cell_state):\n",
        "    embedded_decoder_input = self.embedding_layer(decoder_input)      # embedded shape : (32,1,embedd_size), here 1 , becuase we are giving each word or token to decoder and make it predict next word\n",
        "    lstm_output, (decoder_hidden, decoder_cell) = self.lstm_layer(embedded_decoder_input, (hidden_state, cell_state))     # lstm_output: (32,1,hidden_size)\n",
        "    output_logit = self.fnn(lstm_output.squeeze(1))   # squeeze (32,1,hidden_size) -> 32,hidden_size\n",
        "    hidden_state = self.attention_vector(encoder_outputs, decoder_hidden)     # ouput_logits: (32,vocab_size) , 32 prediction of word , we will pic top item\n",
        "\n",
        "    return output_logit ,hidden_state , decoder_cell"
      ]
    },
    {
      "cell_type": "code",
      "execution_count": 142,
      "metadata": {
        "id": "W6_hxStX4-K9"
      },
      "outputs": [],
      "source": [
        "class Seq2SeqAttentionModel(nn.Module):\n",
        "  def __init__(self,\n",
        "               embedding_size,\n",
        "               hidden_size,\n",
        "               vocab_size_en,\n",
        "               vocab_size_tr,\n",
        "               max_len=10):\n",
        "    super().__init__()\n",
        "\n",
        "    self.encoder = Encoder(embedding_size,\n",
        "                           hidden_size,\n",
        "                           vocab_size_en)\n",
        "\n",
        "    self.decoder = Decoder(embedding_size,\n",
        "                           hidden_size,\n",
        "                           vocab_size_tr,\n",
        "                           max_len,\n",
        "                           sos_token=1)\n",
        "\n",
        "  def forward(self, input, target_output):\n",
        "    encoder_outputs = self.encoder(input)\n",
        "    decoder_output = self.decoder(*encoder_outputs, target_output)\n",
        "\n",
        "    return decoder_output"
      ]
    },
    {
      "cell_type": "code",
      "execution_count": 143,
      "metadata": {},
      "outputs": [
        {
          "name": "stdout",
          "output_type": "stream",
          "text": [
            "torch.Size([1, 32, 128]) torch.Size([1, 32, 128])\n",
            "torch.Size([32, 1, 128])\n",
            "torch.Size([1, 32, 128]) torch.Size([1, 32, 128])\n",
            "torch.Size([32, 1, 128])\n",
            "torch.Size([1, 32, 128]) torch.Size([1, 32, 128])\n",
            "torch.Size([32, 1, 128])\n",
            "torch.Size([1, 32, 128]) torch.Size([1, 32, 128])\n",
            "torch.Size([32, 1, 128])\n",
            "torch.Size([1, 32, 128]) torch.Size([1, 32, 128])\n",
            "torch.Size([32, 1, 128])\n",
            "torch.Size([1, 32, 128]) torch.Size([1, 32, 128])\n",
            "torch.Size([32, 1, 128])\n",
            "torch.Size([1, 32, 128]) torch.Size([1, 32, 128])\n",
            "torch.Size([32, 1, 128])\n",
            "torch.Size([1, 32, 128]) torch.Size([1, 32, 128])\n",
            "torch.Size([32, 1, 128])\n"
          ]
        },
        {
          "ename": "IndexError",
          "evalue": "index 7 is out of bounds for dimension 1 with size 7",
          "output_type": "error",
          "traceback": [
            "\u001b[1;31m---------------------------------------------------------------------------\u001b[0m",
            "\u001b[1;31mIndexError\u001b[0m                                Traceback (most recent call last)",
            "Cell \u001b[1;32mIn[143], line 19\u001b[0m\n\u001b[0;32m     17\u001b[0m \u001b[38;5;28;01mfor\u001b[39;00m epoch_num \u001b[38;5;129;01min\u001b[39;00m \u001b[38;5;28mrange\u001b[39m(epoch):\n\u001b[0;32m     18\u001b[0m     \u001b[38;5;28;01mfor\u001b[39;00m input_sentance, target_sentance \u001b[38;5;129;01min\u001b[39;00m dataloader:\n\u001b[1;32m---> 19\u001b[0m         output \u001b[38;5;241m=\u001b[39m \u001b[43mmodel\u001b[49m\u001b[43m(\u001b[49m\u001b[43minput_sentance\u001b[49m\u001b[43m,\u001b[49m\u001b[43mtarget_sentance\u001b[49m\u001b[43m)\u001b[49m\n\u001b[0;32m     20\u001b[0m         target_sentance \u001b[38;5;241m=\u001b[39m target_sentance\u001b[38;5;241m.\u001b[39mview(\u001b[38;5;241m-\u001b[39m\u001b[38;5;241m1\u001b[39m)\n\u001b[0;32m     21\u001b[0m         output\u001b[38;5;241m.\u001b[39mview(target_sentance\u001b[38;5;241m.\u001b[39mshape[\u001b[38;5;241m0\u001b[39m],tar_vocabsize)\n",
            "File \u001b[1;32mc:\\Users\\VICTUS\\anaconda3\\envs\\GPU\\lib\\site-packages\\torch\\nn\\modules\\module.py:1553\u001b[0m, in \u001b[0;36mModule._wrapped_call_impl\u001b[1;34m(self, *args, **kwargs)\u001b[0m\n\u001b[0;32m   1551\u001b[0m     \u001b[38;5;28;01mreturn\u001b[39;00m \u001b[38;5;28mself\u001b[39m\u001b[38;5;241m.\u001b[39m_compiled_call_impl(\u001b[38;5;241m*\u001b[39margs, \u001b[38;5;241m*\u001b[39m\u001b[38;5;241m*\u001b[39mkwargs)  \u001b[38;5;66;03m# type: ignore[misc]\u001b[39;00m\n\u001b[0;32m   1552\u001b[0m \u001b[38;5;28;01melse\u001b[39;00m:\n\u001b[1;32m-> 1553\u001b[0m     \u001b[38;5;28;01mreturn\u001b[39;00m \u001b[38;5;28;43mself\u001b[39;49m\u001b[38;5;241;43m.\u001b[39;49m\u001b[43m_call_impl\u001b[49m\u001b[43m(\u001b[49m\u001b[38;5;241;43m*\u001b[39;49m\u001b[43margs\u001b[49m\u001b[43m,\u001b[49m\u001b[43m \u001b[49m\u001b[38;5;241;43m*\u001b[39;49m\u001b[38;5;241;43m*\u001b[39;49m\u001b[43mkwargs\u001b[49m\u001b[43m)\u001b[49m\n",
            "File \u001b[1;32mc:\\Users\\VICTUS\\anaconda3\\envs\\GPU\\lib\\site-packages\\torch\\nn\\modules\\module.py:1562\u001b[0m, in \u001b[0;36mModule._call_impl\u001b[1;34m(self, *args, **kwargs)\u001b[0m\n\u001b[0;32m   1557\u001b[0m \u001b[38;5;66;03m# If we don't have any hooks, we want to skip the rest of the logic in\u001b[39;00m\n\u001b[0;32m   1558\u001b[0m \u001b[38;5;66;03m# this function, and just call forward.\u001b[39;00m\n\u001b[0;32m   1559\u001b[0m \u001b[38;5;28;01mif\u001b[39;00m \u001b[38;5;129;01mnot\u001b[39;00m (\u001b[38;5;28mself\u001b[39m\u001b[38;5;241m.\u001b[39m_backward_hooks \u001b[38;5;129;01mor\u001b[39;00m \u001b[38;5;28mself\u001b[39m\u001b[38;5;241m.\u001b[39m_backward_pre_hooks \u001b[38;5;129;01mor\u001b[39;00m \u001b[38;5;28mself\u001b[39m\u001b[38;5;241m.\u001b[39m_forward_hooks \u001b[38;5;129;01mor\u001b[39;00m \u001b[38;5;28mself\u001b[39m\u001b[38;5;241m.\u001b[39m_forward_pre_hooks\n\u001b[0;32m   1560\u001b[0m         \u001b[38;5;129;01mor\u001b[39;00m _global_backward_pre_hooks \u001b[38;5;129;01mor\u001b[39;00m _global_backward_hooks\n\u001b[0;32m   1561\u001b[0m         \u001b[38;5;129;01mor\u001b[39;00m _global_forward_hooks \u001b[38;5;129;01mor\u001b[39;00m _global_forward_pre_hooks):\n\u001b[1;32m-> 1562\u001b[0m     \u001b[38;5;28;01mreturn\u001b[39;00m \u001b[43mforward_call\u001b[49m\u001b[43m(\u001b[49m\u001b[38;5;241;43m*\u001b[39;49m\u001b[43margs\u001b[49m\u001b[43m,\u001b[49m\u001b[43m \u001b[49m\u001b[38;5;241;43m*\u001b[39;49m\u001b[38;5;241;43m*\u001b[39;49m\u001b[43mkwargs\u001b[49m\u001b[43m)\u001b[49m\n\u001b[0;32m   1564\u001b[0m \u001b[38;5;28;01mtry\u001b[39;00m:\n\u001b[0;32m   1565\u001b[0m     result \u001b[38;5;241m=\u001b[39m \u001b[38;5;28;01mNone\u001b[39;00m\n",
            "Cell \u001b[1;32mIn[142], line 22\u001b[0m, in \u001b[0;36mSeq2SeqAttentionModel.forward\u001b[1;34m(self, input, target_output)\u001b[0m\n\u001b[0;32m     20\u001b[0m \u001b[38;5;28;01mdef\u001b[39;00m \u001b[38;5;21mforward\u001b[39m(\u001b[38;5;28mself\u001b[39m, \u001b[38;5;28minput\u001b[39m, target_output):\n\u001b[0;32m     21\u001b[0m   encoder_outputs \u001b[38;5;241m=\u001b[39m \u001b[38;5;28mself\u001b[39m\u001b[38;5;241m.\u001b[39mencoder(\u001b[38;5;28minput\u001b[39m)\n\u001b[1;32m---> 22\u001b[0m   decoder_output \u001b[38;5;241m=\u001b[39m \u001b[38;5;28;43mself\u001b[39;49m\u001b[38;5;241;43m.\u001b[39;49m\u001b[43mdecoder\u001b[49m\u001b[43m(\u001b[49m\u001b[38;5;241;43m*\u001b[39;49m\u001b[43mencoder_outputs\u001b[49m\u001b[43m,\u001b[49m\u001b[43m \u001b[49m\u001b[43mtarget_output\u001b[49m\u001b[43m)\u001b[49m\n\u001b[0;32m     24\u001b[0m   \u001b[38;5;28;01mreturn\u001b[39;00m decoder_output\n",
            "File \u001b[1;32mc:\\Users\\VICTUS\\anaconda3\\envs\\GPU\\lib\\site-packages\\torch\\nn\\modules\\module.py:1553\u001b[0m, in \u001b[0;36mModule._wrapped_call_impl\u001b[1;34m(self, *args, **kwargs)\u001b[0m\n\u001b[0;32m   1551\u001b[0m     \u001b[38;5;28;01mreturn\u001b[39;00m \u001b[38;5;28mself\u001b[39m\u001b[38;5;241m.\u001b[39m_compiled_call_impl(\u001b[38;5;241m*\u001b[39margs, \u001b[38;5;241m*\u001b[39m\u001b[38;5;241m*\u001b[39mkwargs)  \u001b[38;5;66;03m# type: ignore[misc]\u001b[39;00m\n\u001b[0;32m   1552\u001b[0m \u001b[38;5;28;01melse\u001b[39;00m:\n\u001b[1;32m-> 1553\u001b[0m     \u001b[38;5;28;01mreturn\u001b[39;00m \u001b[38;5;28;43mself\u001b[39;49m\u001b[38;5;241;43m.\u001b[39;49m\u001b[43m_call_impl\u001b[49m\u001b[43m(\u001b[49m\u001b[38;5;241;43m*\u001b[39;49m\u001b[43margs\u001b[49m\u001b[43m,\u001b[49m\u001b[43m \u001b[49m\u001b[38;5;241;43m*\u001b[39;49m\u001b[38;5;241;43m*\u001b[39;49m\u001b[43mkwargs\u001b[49m\u001b[43m)\u001b[49m\n",
            "File \u001b[1;32mc:\\Users\\VICTUS\\anaconda3\\envs\\GPU\\lib\\site-packages\\torch\\nn\\modules\\module.py:1562\u001b[0m, in \u001b[0;36mModule._call_impl\u001b[1;34m(self, *args, **kwargs)\u001b[0m\n\u001b[0;32m   1557\u001b[0m \u001b[38;5;66;03m# If we don't have any hooks, we want to skip the rest of the logic in\u001b[39;00m\n\u001b[0;32m   1558\u001b[0m \u001b[38;5;66;03m# this function, and just call forward.\u001b[39;00m\n\u001b[0;32m   1559\u001b[0m \u001b[38;5;28;01mif\u001b[39;00m \u001b[38;5;129;01mnot\u001b[39;00m (\u001b[38;5;28mself\u001b[39m\u001b[38;5;241m.\u001b[39m_backward_hooks \u001b[38;5;129;01mor\u001b[39;00m \u001b[38;5;28mself\u001b[39m\u001b[38;5;241m.\u001b[39m_backward_pre_hooks \u001b[38;5;129;01mor\u001b[39;00m \u001b[38;5;28mself\u001b[39m\u001b[38;5;241m.\u001b[39m_forward_hooks \u001b[38;5;129;01mor\u001b[39;00m \u001b[38;5;28mself\u001b[39m\u001b[38;5;241m.\u001b[39m_forward_pre_hooks\n\u001b[0;32m   1560\u001b[0m         \u001b[38;5;129;01mor\u001b[39;00m _global_backward_pre_hooks \u001b[38;5;129;01mor\u001b[39;00m _global_backward_hooks\n\u001b[0;32m   1561\u001b[0m         \u001b[38;5;129;01mor\u001b[39;00m _global_forward_hooks \u001b[38;5;129;01mor\u001b[39;00m _global_forward_pre_hooks):\n\u001b[1;32m-> 1562\u001b[0m     \u001b[38;5;28;01mreturn\u001b[39;00m \u001b[43mforward_call\u001b[49m\u001b[43m(\u001b[49m\u001b[38;5;241;43m*\u001b[39;49m\u001b[43margs\u001b[49m\u001b[43m,\u001b[49m\u001b[43m \u001b[49m\u001b[38;5;241;43m*\u001b[39;49m\u001b[38;5;241;43m*\u001b[39;49m\u001b[43mkwargs\u001b[49m\u001b[43m)\u001b[49m\n\u001b[0;32m   1564\u001b[0m \u001b[38;5;28;01mtry\u001b[39;00m:\n\u001b[0;32m   1565\u001b[0m     result \u001b[38;5;241m=\u001b[39m \u001b[38;5;28;01mNone\u001b[39;00m\n",
            "Cell \u001b[1;32mIn[141], line 36\u001b[0m, in \u001b[0;36mDecoder.forward\u001b[1;34m(self, encoder_outputs, hidden_state, cell_state, target_output)\u001b[0m\n\u001b[0;32m     34\u001b[0m \u001b[38;5;66;03m# teacher_forcing, occurs if we give target_output in the decoder\u001b[39;00m\n\u001b[0;32m     35\u001b[0m \u001b[38;5;28;01mif\u001b[39;00m target_output \u001b[38;5;241m!=\u001b[39m \u001b[38;5;28;01mNone\u001b[39;00m:\n\u001b[1;32m---> 36\u001b[0m   decoder_input \u001b[38;5;241m=\u001b[39m \u001b[43mtarget_output\u001b[49m\u001b[43m[\u001b[49m\u001b[43m:\u001b[49m\u001b[43m,\u001b[49m\u001b[43mi\u001b[49m\u001b[43m]\u001b[49m\u001b[38;5;241m.\u001b[39munsqueeze(\u001b[38;5;241m1\u001b[39m)\n\u001b[0;32m     37\u001b[0m \u001b[38;5;28;01melse\u001b[39;00m:\n\u001b[0;32m     38\u001b[0m   _, decoder_input \u001b[38;5;241m=\u001b[39m output_logits\u001b[38;5;241m.\u001b[39mtopk(\u001b[38;5;241m1\u001b[39m,dim\u001b[38;5;241m=\u001b[39m\u001b[38;5;241m-\u001b[39m\u001b[38;5;241m1\u001b[39m)\n",
            "\u001b[1;31mIndexError\u001b[0m: index 7 is out of bounds for dimension 1 with size 7"
          ]
        }
      ],
      "source": [
        "embedding_size = 128\n",
        "hidden_size = 128\n",
        "max_len = 7\n",
        "inp_vocabsize = inp_lang.get_vocabsize() + 1\n",
        "tar_vocabsize = tar_lang.get_vocabsize() + 1\n",
        "epoch = 20\n",
        "max_len = 12\n",
        "model = Seq2SeqAttentionModel(embedding_size,\n",
        "                              hidden_size,\n",
        "                              inp_vocabsize,\n",
        "                              tar_vocabsize,\n",
        "                              max_len=max_len)\n",
        "criteria = nn.CrossEntropyLoss(ignore_index=0)\n",
        "optimizer = RMSprop(model.parameters())\n",
        "\n",
        "\n",
        "for epoch_num in range(epoch):\n",
        "    for input_sentance, target_sentance in dataloader:\n",
        "        output = model(input_sentance,target_sentance)\n",
        "        target_sentance = target_sentance.view(-1)\n",
        "        output.view(target_sentance.shape[0],tar_vocabsize)\n",
        "        optimizer.zero_grad()\n",
        "        loss = criteria(output,target_sentance)\n",
        "        loss.backward()\n",
        "        optimizer.step()\n",
        "    print('total loss in {epoch} epoch:',epoch)\n",
        "\n"
      ]
    },
    {
      "cell_type": "code",
      "execution_count": 54,
      "metadata": {},
      "outputs": [
        {
          "data": {
            "text/plain": [
              "<torch._C.Generator at 0x216857fa290>"
            ]
          },
          "execution_count": 54,
          "metadata": {},
          "output_type": "execute_result"
        }
      ],
      "source": []
    },
    {
      "cell_type": "code",
      "execution_count": 71,
      "metadata": {},
      "outputs": [
        {
          "data": {
            "text/plain": [
              "160"
            ]
          },
          "execution_count": 71,
          "metadata": {},
          "output_type": "execute_result"
        }
      ],
      "source": [
        "torch.manual_seed(1)\n",
        "torch.randint(low=1,high=10,size=(32,5)).view(-1).shape[0]"
      ]
    },
    {
      "cell_type": "code",
      "execution_count": 67,
      "metadata": {},
      "outputs": [
        {
          "data": {
            "text/plain": [
              "torch.Size([160, 30])"
            ]
          },
          "execution_count": 67,
          "metadata": {},
          "output_type": "execute_result"
        }
      ],
      "source": [
        "torch.manual_seed(1)\n",
        "torch.rand(size=(32,5,30)).view(32*5,30).shape"
      ]
    },
    {
      "cell_type": "code",
      "execution_count": null,
      "metadata": {},
      "outputs": [],
      "source": []
    },
    {
      "cell_type": "code",
      "execution_count": null,
      "metadata": {},
      "outputs": [],
      "source": []
    }
  ],
  "metadata": {
    "colab": {
      "provenance": []
    },
    "kernelspec": {
      "display_name": "GPU",
      "language": "python",
      "name": "python3"
    },
    "language_info": {
      "codemirror_mode": {
        "name": "ipython",
        "version": 3
      },
      "file_extension": ".py",
      "mimetype": "text/x-python",
      "name": "python",
      "nbconvert_exporter": "python",
      "pygments_lexer": "ipython3",
      "version": "3.8.20"
    }
  },
  "nbformat": 4,
  "nbformat_minor": 0
}
